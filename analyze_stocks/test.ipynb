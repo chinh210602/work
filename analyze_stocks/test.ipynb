{
 "cells": [
  {
   "cell_type": "code",
   "execution_count": 41,
   "metadata": {},
   "outputs": [],
   "source": [
    "import requests\n",
    "from bs4 import BeautifulSoup\n",
    "from yahoofinancials import YahooFinancials\n",
    "import yfinance\n",
    "import pandas as pd\n",
    "import datetime \n",
    "import concurrent.futures as cf\n",
    "import multiprocessing\n",
    "import vnstock\n",
    "import json"
   ]
  },
  {
   "cell_type": "code",
   "execution_count": 70,
   "metadata": {},
   "outputs": [],
   "source": [
    "tickers = list(vnstock.listing_companies(live=True)[\"ticker\"])\n",
    "stocks = set(tickers)"
   ]
  },
  {
   "cell_type": "code",
   "execution_count": null,
   "metadata": {},
   "outputs": [],
   "source": [
    "vnstock.financial_ratio(tickers[0],\"quarterly\", \"true\").to_dict()"
   ]
  },
  {
   "cell_type": "code",
   "execution_count": 72,
   "metadata": {},
   "outputs": [
    {
     "data": {
      "text/plain": [
       "1249"
      ]
     },
     "execution_count": 72,
     "metadata": {},
     "output_type": "execute_result"
    }
   ],
   "source": [
    "financial_ratio = {}\n",
    "failed_stock = 0\n",
    "for stock in stocks:\n",
    "    try:\n",
    "        financial_ratio[stock] = vnstock.financial_ratio(stock,\"quarterly\", \"true\").to_dict()\n",
    "    except:\n",
    "        failed_stock += 1\n",
    "len(financial_ratio)"
   ]
  },
  {
   "cell_type": "code",
   "execution_count": 73,
   "metadata": {},
   "outputs": [],
   "source": [
    "with open(\"financial_ratio_data.json\", \"w\") as f:\n",
    "    json.dump(financial_ratio, f)"
   ]
  },
  {
   "cell_type": "code",
   "execution_count": 80,
   "metadata": {},
   "outputs": [],
   "source": [
    "def filter_stock_buffet_way(financial_ratio):\n",
    "    # Calculate metrics\n",
    "    roe_ratio = {}\n",
    "    eps_growth = {}\n",
    "    result = []\n",
    "    for stock, ratio_data in financial_ratio.items():\n",
    "        stock_roe = 0\n",
    "        stock_roe_down_count = 0\n",
    "        stock_eps_growth = 0\n",
    "        stock_eps_down_count = 0\n",
    "        length = 0\n",
    "        for quarter, quarter_data in ratio_data.items():\n",
    "            roe = quarter_data[\"roe\"] if not pd.isna(quarter_data[\"roe\"]) else 0\n",
    "            eps_change = quarter_data[\"epsChange\"] if not pd.isna(quarter_data[\"epsChange\"]) else 0\n",
    "            if roe < 0: stock_roe_down_count += 1\n",
    "            if eps_change < 0: stock_eps_down_count += 1\n",
    "            stock_roe += roe\n",
    "            stock_eps_growth += eps_change\n",
    "            length += 1\n",
    "        roe_ratio[stock] = {\"avg\": round(stock_roe / length, 2), \"consistency\": stock_roe_down_count}\n",
    "        eps_growth[stock] = {\"avg\": round(stock_eps_growth / length, 2), \"consistency\": stock_eps_down_count}\n",
    "    \n",
    "\n",
    "    #Filter by conditions\n",
    "\n",
    "    roe_threshold = 0.05\n",
    "    eps_growth_threshold = 0.05\n",
    "    \n",
    "    for stock in roe_ratio:\n",
    "        if roe_ratio[stock][\"avg\"] >= roe_threshold and eps_growth[stock][\"avg\"] >= eps_growth_threshold and roe_ratio[stock][\"consistency\"] == 0 and eps_growth[stock][\"consistency\"] < 2:\n",
    "            result.append(stock)\n",
    "            \n",
    "    return result, roe_ratio, eps_growth\n",
    "    \n",
    "            "
   ]
  },
  {
   "cell_type": "code",
   "execution_count": 81,
   "metadata": {},
   "outputs": [],
   "source": [
    "result, roe_ratio, eps_growth = filter_stock_buffet_way(financial_ratio)"
   ]
  },
  {
   "cell_type": "code",
   "execution_count": 82,
   "metadata": {},
   "outputs": [
    {
     "data": {
      "text/plain": [
       "['TED',\n",
       " 'DAN',\n",
       " 'TOT',\n",
       " 'GSP',\n",
       " 'M10',\n",
       " 'DMN',\n",
       " 'MBB',\n",
       " 'SLS',\n",
       " 'CMF',\n",
       " 'RAL',\n",
       " 'DBD',\n",
       " 'FPT',\n",
       " 'VCB',\n",
       " 'GVT',\n",
       " 'MSB',\n",
       " 'DWS',\n",
       " 'HNM',\n",
       " 'DP1',\n",
       " 'PTH',\n",
       " 'CTR',\n",
       " 'CMG',\n",
       " 'CAP',\n",
       " 'HDB']"
      ]
     },
     "execution_count": 82,
     "metadata": {},
     "output_type": "execute_result"
    }
   ],
   "source": [
    "result"
   ]
  },
  {
   "cell_type": "code",
   "execution_count": null,
   "metadata": {},
   "outputs": [],
   "source": []
  }
 ],
 "metadata": {
  "kernelspec": {
   "display_name": "Python 3",
   "language": "python",
   "name": "python3"
  },
  "language_info": {
   "codemirror_mode": {
    "name": "ipython",
    "version": 3
   },
   "file_extension": ".py",
   "mimetype": "text/x-python",
   "name": "python",
   "nbconvert_exporter": "python",
   "pygments_lexer": "ipython3",
   "version": "3.11.6"
  }
 },
 "nbformat": 4,
 "nbformat_minor": 2
}
